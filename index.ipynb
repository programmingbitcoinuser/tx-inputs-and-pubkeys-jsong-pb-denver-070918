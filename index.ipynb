{
 "cells": [
  {
   "cell_type": "markdown",
   "metadata": {},
   "source": [
    "# Looking Up Transactions"
   ]
  },
  {
   "cell_type": "code",
   "execution_count": 8,
   "metadata": {},
   "outputs": [],
   "source": [
    "# import everything and define a test runner function\n",
    "from importlib import reload\n",
    "from helper import run_test\n",
    "\n",
    "import ecc\n",
    "import helper\n",
    "import script\n",
    "import tx"
   ]
  },
  {
   "cell_type": "code",
   "execution_count": 9,
   "metadata": {},
   "outputs": [
    {
     "ename": "RuntimeError",
     "evalue": "got from server: {\n    \"coin\": \"Bitcoin\",\n    \"host\": \"backend7\",\n    \"version\": \"0.0.6\",\n    \"gitcommit\": \"dfee2b0\",\n    \"buildtime\": \"2018-06-14T09:06:52+00:00\",\n    \"inSync\": true,\n    \"bestHeight\": 531236,\n    \"lastBlockTime\": \"2018-07-09T21:35:06.366081312Z\",\n    \"inSyncMempool\": true,\n    \"lastMempoolTime\": \"2018-07-09T21:53:36.698906403Z\",\n    \"about\": \"Blockbook - blockchain indexer for TREZOR wallet https://trezor.io/. Do not use for any other purpose.\"\n}",
     "output_type": "error",
     "traceback": [
      "\u001b[0;31m\u001b[0m",
      "\u001b[0;31mRuntimeError\u001b[0mTraceback (most recent call last)",
      "\u001b[0;32m~/tx-inputs-and-pubkeys-jsong-pb-denver-070918/tx.py\u001b[0m in \u001b[0;36mfetch_tx\u001b[0;34m(self, testnet)\u001b[0m\n\u001b[1;32m    162\u001b[0m                 \u001b[0;32mif\u001b[0m \u001b[0;34m'rawtx'\u001b[0m \u001b[0;32mnot\u001b[0m \u001b[0;32min\u001b[0m \u001b[0mjs_response\u001b[0m\u001b[0;34m:\u001b[0m\u001b[0;34m\u001b[0m\u001b[0m\n\u001b[0;32m--> 163\u001b[0;31m                     \u001b[0;32mraise\u001b[0m \u001b[0mRuntimeError\u001b[0m\u001b[0;34m(\u001b[0m\u001b[0;34m'got from server: {}'\u001b[0m\u001b[0;34m.\u001b[0m\u001b[0mformat\u001b[0m\u001b[0;34m(\u001b[0m\u001b[0mjs_response\u001b[0m\u001b[0;34m)\u001b[0m\u001b[0;34m)\u001b[0m\u001b[0;34m\u001b[0m\u001b[0m\n\u001b[0m\u001b[1;32m    164\u001b[0m             \u001b[0;32mexcept\u001b[0m\u001b[0;34m:\u001b[0m\u001b[0;34m\u001b[0m\u001b[0m\n",
      "\u001b[0;31mRuntimeError\u001b[0m: got from server: {'coin': 'Bitcoin', 'host': 'backend7', 'version': '0.0.6', 'gitcommit': 'dfee2b0', 'buildtime': '2018-06-14T09:06:52+00:00', 'inSync': True, 'bestHeight': 531236, 'lastBlockTime': '2018-07-09T21:35:06.366081312Z', 'inSyncMempool': True, 'lastMempoolTime': '2018-07-09T21:53:36.698906403Z', 'about': 'Blockbook - blockchain indexer for TREZOR wallet https://trezor.io/. Do not use for any other purpose.'}",
      "\nDuring handling of the above exception, another exception occurred:\n",
      "\u001b[0;31mRuntimeError\u001b[0mTraceback (most recent call last)",
      "\u001b[0;32m<ipython-input-9-fe6e4a6ec068>\u001b[0m in \u001b[0;36m<module>\u001b[0;34m()\u001b[0m\n\u001b[1;32m      5\u001b[0m \u001b[0mprev_tx\u001b[0m \u001b[0;34m=\u001b[0m \u001b[0mbytes\u001b[0m\u001b[0;34m.\u001b[0m\u001b[0mfromhex\u001b[0m\u001b[0;34m(\u001b[0m\u001b[0;34m'd1c789a9c60383bf715f3f6ad9d14b91fe55f3deb369fe5d9280cb1a01793f81'\u001b[0m\u001b[0;34m)\u001b[0m\u001b[0;34m\u001b[0m\u001b[0m\n\u001b[1;32m      6\u001b[0m \u001b[0mtx_in\u001b[0m \u001b[0;34m=\u001b[0m \u001b[0mTxIn\u001b[0m\u001b[0;34m(\u001b[0m\u001b[0mprev_tx\u001b[0m\u001b[0;34m,\u001b[0m \u001b[0;36m0\u001b[0m\u001b[0;34m,\u001b[0m \u001b[0;34mb''\u001b[0m\u001b[0;34m,\u001b[0m \u001b[0;36m0xffffffff\u001b[0m\u001b[0;34m)\u001b[0m\u001b[0;34m\u001b[0m\u001b[0m\n\u001b[0;32m----> 7\u001b[0;31m \u001b[0mprint\u001b[0m\u001b[0;34m(\u001b[0m\u001b[0mtx_in\u001b[0m\u001b[0;34m.\u001b[0m\u001b[0mfetch_tx\u001b[0m\u001b[0;34m(\u001b[0m\u001b[0;34m)\u001b[0m\u001b[0;34m)\u001b[0m\u001b[0;34m\u001b[0m\u001b[0m\n\u001b[0m",
      "\u001b[0;32m~/tx-inputs-and-pubkeys-jsong-pb-denver-070918/tx.py\u001b[0m in \u001b[0;36mfetch_tx\u001b[0;34m(self, testnet)\u001b[0m\n\u001b[1;32m    163\u001b[0m                     \u001b[0;32mraise\u001b[0m \u001b[0mRuntimeError\u001b[0m\u001b[0;34m(\u001b[0m\u001b[0;34m'got from server: {}'\u001b[0m\u001b[0;34m.\u001b[0m\u001b[0mformat\u001b[0m\u001b[0;34m(\u001b[0m\u001b[0mjs_response\u001b[0m\u001b[0;34m)\u001b[0m\u001b[0;34m)\u001b[0m\u001b[0;34m\u001b[0m\u001b[0m\n\u001b[1;32m    164\u001b[0m             \u001b[0;32mexcept\u001b[0m\u001b[0;34m:\u001b[0m\u001b[0;34m\u001b[0m\u001b[0m\n\u001b[0;32m--> 165\u001b[0;31m                 \u001b[0;32mraise\u001b[0m \u001b[0mRuntimeError\u001b[0m\u001b[0;34m(\u001b[0m\u001b[0;34m'got from server: {}'\u001b[0m\u001b[0;34m.\u001b[0m\u001b[0mformat\u001b[0m\u001b[0;34m(\u001b[0m\u001b[0mresponse\u001b[0m\u001b[0;34m.\u001b[0m\u001b[0mtext\u001b[0m\u001b[0;34m)\u001b[0m\u001b[0;34m)\u001b[0m\u001b[0;34m\u001b[0m\u001b[0m\n\u001b[0m\u001b[1;32m    166\u001b[0m             \u001b[0mraw\u001b[0m \u001b[0;34m=\u001b[0m \u001b[0mbytes\u001b[0m\u001b[0;34m.\u001b[0m\u001b[0mfromhex\u001b[0m\u001b[0;34m(\u001b[0m\u001b[0mjs_response\u001b[0m\u001b[0;34m[\u001b[0m\u001b[0;34m'rawtx'\u001b[0m\u001b[0;34m]\u001b[0m\u001b[0;34m)\u001b[0m\u001b[0;34m\u001b[0m\u001b[0m\n\u001b[1;32m    167\u001b[0m             \u001b[0mstream\u001b[0m \u001b[0;34m=\u001b[0m \u001b[0mBytesIO\u001b[0m\u001b[0;34m(\u001b[0m\u001b[0mraw\u001b[0m\u001b[0;34m)\u001b[0m\u001b[0;34m\u001b[0m\u001b[0m\n",
      "\u001b[0;31mRuntimeError\u001b[0m: got from server: {\n    \"coin\": \"Bitcoin\",\n    \"host\": \"backend7\",\n    \"version\": \"0.0.6\",\n    \"gitcommit\": \"dfee2b0\",\n    \"buildtime\": \"2018-06-14T09:06:52+00:00\",\n    \"inSync\": true,\n    \"bestHeight\": 531236,\n    \"lastBlockTime\": \"2018-07-09T21:35:06.366081312Z\",\n    \"inSyncMempool\": true,\n    \"lastMempoolTime\": \"2018-07-09T21:53:36.698906403Z\",\n    \"about\": \"Blockbook - blockchain indexer for TREZOR wallet https://trezor.io/. Do not use for any other purpose.\"\n}"
     ]
    }
   ],
   "source": [
    "# Example of how to look up a transaction using fetch_tx() method\n",
    "\n",
    "from tx import TxIn\n",
    "\n",
    "prev_tx = bytes.fromhex('d1c789a9c60383bf715f3f6ad9d14b91fe55f3deb369fe5d9280cb1a01793f81') \n",
    "tx_in = TxIn(prev_tx, 0, b'', 0xffffffff)\n",
    "print(tx_in.fetch_tx())"
   ]
  },
  {
   "cell_type": "markdown",
   "metadata": {},
   "source": [
    "### Exercise\n",
    "\n",
    "\n",
    "#### What is the value and scriptPubKey of the 0th output of this transaction?\n",
    "```\n",
    "d1c789a9c60383bf715f3f6ad9d14b91fe55f3deb369fe5d9280cb1a01793f81\n",
    "```"
   ]
  },
  {
   "cell_type": "code",
   "execution_count": 6,
   "metadata": {},
   "outputs": [
    {
     "ename": "RuntimeError",
     "evalue": "got from server: {\n    \"coin\": \"Bitcoin\",\n    \"host\": \"backend7\",\n    \"version\": \"0.0.6\",\n    \"gitcommit\": \"dfee2b0\",\n    \"buildtime\": \"2018-06-14T09:06:52+00:00\",\n    \"inSync\": true,\n    \"bestHeight\": 531236,\n    \"lastBlockTime\": \"2018-07-09T21:35:06.366081312Z\",\n    \"inSyncMempool\": true,\n    \"lastMempoolTime\": \"2018-07-09T21:53:16.789141256Z\",\n    \"about\": \"Blockbook - blockchain indexer for TREZOR wallet https://trezor.io/. Do not use for any other purpose.\"\n}",
     "output_type": "error",
     "traceback": [
      "\u001b[0;31m\u001b[0m",
      "\u001b[0;31mRuntimeError\u001b[0mTraceback (most recent call last)",
      "\u001b[0;32m~/tx-inputs-and-pubkeys-jsong-pb-denver-070918/tx.py\u001b[0m in \u001b[0;36mfetch_tx\u001b[0;34m(self, testnet)\u001b[0m\n\u001b[1;32m    162\u001b[0m                 \u001b[0;32mif\u001b[0m \u001b[0;34m'rawtx'\u001b[0m \u001b[0;32mnot\u001b[0m \u001b[0;32min\u001b[0m \u001b[0mjs_response\u001b[0m\u001b[0;34m:\u001b[0m\u001b[0;34m\u001b[0m\u001b[0m\n\u001b[0;32m--> 163\u001b[0;31m                     \u001b[0;32mraise\u001b[0m \u001b[0mRuntimeError\u001b[0m\u001b[0;34m(\u001b[0m\u001b[0;34m'got from server: {}'\u001b[0m\u001b[0;34m.\u001b[0m\u001b[0mformat\u001b[0m\u001b[0;34m(\u001b[0m\u001b[0mjs_response\u001b[0m\u001b[0;34m)\u001b[0m\u001b[0;34m)\u001b[0m\u001b[0;34m\u001b[0m\u001b[0m\n\u001b[0m\u001b[1;32m    164\u001b[0m             \u001b[0;32mexcept\u001b[0m\u001b[0;34m:\u001b[0m\u001b[0;34m\u001b[0m\u001b[0m\n",
      "\u001b[0;31mRuntimeError\u001b[0m: got from server: {'coin': 'Bitcoin', 'host': 'backend7', 'version': '0.0.6', 'gitcommit': 'dfee2b0', 'buildtime': '2018-06-14T09:06:52+00:00', 'inSync': True, 'bestHeight': 531236, 'lastBlockTime': '2018-07-09T21:35:06.366081312Z', 'inSyncMempool': True, 'lastMempoolTime': '2018-07-09T21:53:16.789141256Z', 'about': 'Blockbook - blockchain indexer for TREZOR wallet https://trezor.io/. Do not use for any other purpose.'}",
      "\nDuring handling of the above exception, another exception occurred:\n",
      "\u001b[0;31mRuntimeError\u001b[0mTraceback (most recent call last)",
      "\u001b[0;32m<ipython-input-6-76f2b6411c60>\u001b[0m in \u001b[0;36m<module>\u001b[0;34m()\u001b[0m\n\u001b[1;32m     12\u001b[0m \u001b[0;34m\u001b[0m\u001b[0m\n\u001b[1;32m     13\u001b[0m \u001b[0;31m# fetch the transaction\u001b[0m\u001b[0;34m\u001b[0m\u001b[0;34m\u001b[0m\u001b[0m\n\u001b[0;32m---> 14\u001b[0;31m \u001b[0mt\u001b[0m \u001b[0;34m=\u001b[0m \u001b[0mtx_in\u001b[0m\u001b[0;34m.\u001b[0m\u001b[0mfetch_tx\u001b[0m\u001b[0;34m(\u001b[0m\u001b[0;34m)\u001b[0m\u001b[0;34m\u001b[0m\u001b[0m\n\u001b[0m\u001b[1;32m     15\u001b[0m \u001b[0;31m# grab the output at the index\u001b[0m\u001b[0;34m\u001b[0m\u001b[0;34m\u001b[0m\u001b[0m\n\u001b[1;32m     16\u001b[0m \u001b[0mprev_output\u001b[0m \u001b[0;34m=\u001b[0m \u001b[0mt\u001b[0m\u001b[0;34m.\u001b[0m\u001b[0mtx_outs\u001b[0m\u001b[0;34m[\u001b[0m\u001b[0mprev_index\u001b[0m\u001b[0;34m]\u001b[0m\u001b[0;34m\u001b[0m\u001b[0m\n",
      "\u001b[0;32m~/tx-inputs-and-pubkeys-jsong-pb-denver-070918/tx.py\u001b[0m in \u001b[0;36mfetch_tx\u001b[0;34m(self, testnet)\u001b[0m\n\u001b[1;32m    163\u001b[0m                     \u001b[0;32mraise\u001b[0m \u001b[0mRuntimeError\u001b[0m\u001b[0;34m(\u001b[0m\u001b[0;34m'got from server: {}'\u001b[0m\u001b[0;34m.\u001b[0m\u001b[0mformat\u001b[0m\u001b[0;34m(\u001b[0m\u001b[0mjs_response\u001b[0m\u001b[0;34m)\u001b[0m\u001b[0;34m)\u001b[0m\u001b[0;34m\u001b[0m\u001b[0m\n\u001b[1;32m    164\u001b[0m             \u001b[0;32mexcept\u001b[0m\u001b[0;34m:\u001b[0m\u001b[0;34m\u001b[0m\u001b[0m\n\u001b[0;32m--> 165\u001b[0;31m                 \u001b[0;32mraise\u001b[0m \u001b[0mRuntimeError\u001b[0m\u001b[0;34m(\u001b[0m\u001b[0;34m'got from server: {}'\u001b[0m\u001b[0;34m.\u001b[0m\u001b[0mformat\u001b[0m\u001b[0;34m(\u001b[0m\u001b[0mresponse\u001b[0m\u001b[0;34m.\u001b[0m\u001b[0mtext\u001b[0m\u001b[0;34m)\u001b[0m\u001b[0;34m)\u001b[0m\u001b[0;34m\u001b[0m\u001b[0m\n\u001b[0m\u001b[1;32m    166\u001b[0m             \u001b[0mraw\u001b[0m \u001b[0;34m=\u001b[0m \u001b[0mbytes\u001b[0m\u001b[0;34m.\u001b[0m\u001b[0mfromhex\u001b[0m\u001b[0;34m(\u001b[0m\u001b[0mjs_response\u001b[0m\u001b[0;34m[\u001b[0m\u001b[0;34m'rawtx'\u001b[0m\u001b[0;34m]\u001b[0m\u001b[0;34m)\u001b[0m\u001b[0;34m\u001b[0m\u001b[0m\n\u001b[1;32m    167\u001b[0m             \u001b[0mstream\u001b[0m \u001b[0;34m=\u001b[0m \u001b[0mBytesIO\u001b[0m\u001b[0;34m(\u001b[0m\u001b[0mraw\u001b[0m\u001b[0;34m)\u001b[0m\u001b[0;34m\u001b[0m\u001b[0m\n",
      "\u001b[0;31mRuntimeError\u001b[0m: got from server: {\n    \"coin\": \"Bitcoin\",\n    \"host\": \"backend7\",\n    \"version\": \"0.0.6\",\n    \"gitcommit\": \"dfee2b0\",\n    \"buildtime\": \"2018-06-14T09:06:52+00:00\",\n    \"inSync\": true,\n    \"bestHeight\": 531236,\n    \"lastBlockTime\": \"2018-07-09T21:35:06.366081312Z\",\n    \"inSyncMempool\": true,\n    \"lastMempoolTime\": \"2018-07-09T21:53:16.789141256Z\",\n    \"about\": \"Blockbook - blockchain indexer for TREZOR wallet https://trezor.io/. Do not use for any other purpose.\"\n}"
     ]
    }
   ],
   "source": [
    "# Exercise 4.1\n",
    "\n",
    "from tx import TxIn\n",
    "\n",
    "prev_tx = bytes.fromhex('d1c789a9c60383bf715f3f6ad9d14b91fe55f3deb369fe5d9280cb1a01793f81') \n",
    "prev_index = 0\n",
    "\n",
    "\n",
    "# create the transaction input (use blank script_sig and 0xffffffff for sequence)\n",
    "\n",
    "tx_in = TxIn(prev_tx, 0, b'', 0xffffffff)\n",
    "\n",
    "# fetch the transaction\n",
    "t = tx_in.fetch_tx()\n",
    "# grab the output at the index\n",
    "prev_output = t.tx_outs[prev_index]\n",
    "\n",
    "# show the amount\n",
    "print(prev_output.amount)\n",
    "# show the script_pubkey\n",
    "print(prev_output.script_pubkey)"
   ]
  },
  {
   "cell_type": "markdown",
   "metadata": {},
   "source": [
    "### Test Driven Exercise"
   ]
  },
  {
   "cell_type": "code",
   "execution_count": null,
   "metadata": {},
   "outputs": [],
   "source": [
    "from tx import TxIn\n",
    "\n",
    "class TxIn(TxIn):\n",
    "\n",
    "    def value(self, testnet=False):\n",
    "        '''Get the outpoint value by looking up the tx hash on libbitcoin server\n",
    "        Returns the amount in satoshi\n",
    "        '''\n",
    "        # use self.fetch_tx to get the transaction\n",
    "        tx = self.fetch_tx(testnet=testnet)\n",
    "        # get the output at self.prev_index\n",
    "        # return the amount property\n",
    "        return tx.tx_outs[self.prev_index].amount\n",
    "\n",
    "    def script_pubkey(self, testnet=False):\n",
    "        '''Get the scriptPubKey by looking up the tx hash on libbitcoin server\n",
    "        Returns the binary scriptpubkey\n",
    "        '''\n",
    "        # use self.fetch_tx to get the transaction\n",
    "        tx = self.fetch_tx(testnet=testnet)\n",
    "        # get the output at self.prev_index\n",
    "        # return the script_pubkey property and serialize\n",
    "        return tx.tx_outs[self.prev_index].script_pubkey"
   ]
  }
 ],
 "metadata": {
  "kernelspec": {
   "display_name": "Python 3",
   "language": "python",
   "name": "python3"
  },
  "language_info": {
   "codemirror_mode": {
    "name": "ipython",
    "version": 3
   },
   "file_extension": ".py",
   "mimetype": "text/x-python",
   "name": "python",
   "nbconvert_exporter": "python",
   "pygments_lexer": "ipython3",
   "version": "3.6.4"
  }
 },
 "nbformat": 4,
 "nbformat_minor": 2
}
